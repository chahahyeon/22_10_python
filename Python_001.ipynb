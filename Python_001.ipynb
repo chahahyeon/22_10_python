{
  "nbformat": 4,
  "nbformat_minor": 0,
  "metadata": {
    "colab": {
      "provenance": [],
      "authorship_tag": "ABX9TyMu+5Lestzwq7s8wkbzEczC",
      "include_colab_link": true
    },
    "kernelspec": {
      "name": "python3",
      "display_name": "Python 3"
    },
    "language_info": {
      "name": "python"
    }
  },
  "cells": [
    {
      "cell_type": "markdown",
      "metadata": {
        "id": "view-in-github",
        "colab_type": "text"
      },
      "source": [
        "<a href=\"https://colab.research.google.com/github/chahahyeon/22_10_python/blob/main/Python_001.ipynb\" target=\"_parent\"><img src=\"https://colab.research.google.com/assets/colab-badge.svg\" alt=\"Open In Colab\"/></a>"
      ]
    },
    {
      "cell_type": "markdown",
      "source": [
        "코랩과 깃헙의 첫번째 연결을 진행합니다."
      ],
      "metadata": {
        "id": "QniyqYaHpzh9"
      }
    },
    {
      "cell_type": "code",
      "source": [
        "print(\"Hello Github\")\n",
        "print(\"Hello Python\")\n",
        "print(\"안녕하세요?\")\n",
        "print(\"Programming에 입문하신것을 축하드립니다.\")"
      ],
      "metadata": {
        "colab": {
          "base_uri": "https://localhost:8080/"
        },
        "id": "vwMjvADkp51s",
        "outputId": "3e564cc9-2efb-4dd0-c707-4acd21e7e65a"
      },
      "execution_count": 1,
      "outputs": [
        {
          "output_type": "stream",
          "name": "stdout",
          "text": [
            "Hello Github\n",
            "Hello Python\n",
            "안녕하세요?\n",
            "Programming에 입문하신것을 축하드립니다.\n"
          ]
        }
      ]
    },
    {
      "cell_type": "code",
      "source": [
        "print(5+6)\n",
        "print(5-3)\n",
        "print(5/3)\n",
        "print(5//3)"
      ],
      "metadata": {
        "colab": {
          "base_uri": "https://localhost:8080/"
        },
        "id": "KFudxfj1qcGt",
        "outputId": "e8dbe990-3689-4a24-8d27-5ed6ebad5b48"
      },
      "execution_count": 2,
      "outputs": [
        {
          "output_type": "stream",
          "name": "stdout",
          "text": [
            "11\n",
            "2\n",
            "1.6666666666666667\n",
            "1\n"
          ]
        }
      ]
    }
  ]
}